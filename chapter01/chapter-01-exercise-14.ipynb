{
 "cells": [
  {
   "cell_type": "code",
   "execution_count": 1,
   "id": "75008e56",
   "metadata": {},
   "outputs": [],
   "source": [
    "over_18, over_21 = True, False\n"
   ]
  },
  {
   "cell_type": "code",
   "execution_count": 2,
   "id": "30395070",
   "metadata": {},
   "outputs": [
    {
     "data": {
      "text/plain": [
       "False"
      ]
     },
     "execution_count": 2,
     "metadata": {},
     "output_type": "execute_result"
    }
   ],
   "source": [
    "over_18 and over_21"
   ]
  },
  {
   "cell_type": "code",
   "execution_count": 3,
   "id": "7020f82e",
   "metadata": {},
   "outputs": [
    {
     "data": {
      "text/plain": [
       "True"
      ]
     },
     "execution_count": 3,
     "metadata": {},
     "output_type": "execute_result"
    }
   ],
   "source": [
    "over_18 or over_21"
   ]
  },
  {
   "cell_type": "code",
   "execution_count": 4,
   "id": "9ffd88db",
   "metadata": {},
   "outputs": [
    {
     "data": {
      "text/plain": [
       "False"
      ]
     },
     "execution_count": 4,
     "metadata": {},
     "output_type": "execute_result"
    }
   ],
   "source": [
    "not over_18"
   ]
  },
  {
   "cell_type": "code",
   "execution_count": 5,
   "id": "803216b5",
   "metadata": {},
   "outputs": [
    {
     "data": {
      "text/plain": [
       "True"
      ]
     },
     "execution_count": 5,
     "metadata": {},
     "output_type": "execute_result"
    }
   ],
   "source": [
    "not over_18 or (over_21 or over_18)"
   ]
  },
  {
   "cell_type": "code",
   "execution_count": 6,
   "id": "f625a47d",
   "metadata": {},
   "outputs": [
    {
     "data": {
      "text/plain": [
       "False"
      ]
     },
     "execution_count": 6,
     "metadata": {},
     "output_type": "execute_result"
    }
   ],
   "source": [
    "age = 20\n",
    "age < 13"
   ]
  },
  {
   "cell_type": "code",
   "execution_count": 7,
   "id": "8739f930",
   "metadata": {},
   "outputs": [
    {
     "data": {
      "text/plain": [
       "True"
      ]
     },
     "execution_count": 7,
     "metadata": {},
     "output_type": "execute_result"
    }
   ],
   "source": [
    "age >= 20 and age <= 21"
   ]
  },
  {
   "cell_type": "code",
   "execution_count": 8,
   "id": "7235af82",
   "metadata": {},
   "outputs": [
    {
     "data": {
      "text/plain": [
       "True"
      ]
     },
     "execution_count": 8,
     "metadata": {},
     "output_type": "execute_result"
    }
   ],
   "source": [
    "age != 21"
   ]
  },
  {
   "cell_type": "code",
   "execution_count": 9,
   "id": "a8568979",
   "metadata": {},
   "outputs": [
    {
     "data": {
      "text/plain": [
       "False"
      ]
     },
     "execution_count": 9,
     "metadata": {},
     "output_type": "execute_result"
    }
   ],
   "source": [
    "age == 19"
   ]
  },
  {
   "cell_type": "code",
   "execution_count": 12,
   "id": "0f4eb1ee",
   "metadata": {},
   "outputs": [
    {
     "data": {
      "text/plain": [
       "True"
      ]
     },
     "execution_count": 12,
     "metadata": {},
     "output_type": "execute_result"
    }
   ],
   "source": [
    "6 == 6.0"
   ]
  },
  {
   "cell_type": "code",
   "execution_count": 13,
   "id": "2fcef9e3",
   "metadata": {},
   "outputs": [
    {
     "data": {
      "text/plain": [
       "False"
      ]
     },
     "execution_count": 13,
     "metadata": {},
     "output_type": "execute_result"
    }
   ],
   "source": [
    "6 == '6'"
   ]
  },
  {
   "cell_type": "code",
   "execution_count": 14,
   "id": "a1ea4f18",
   "metadata": {},
   "outputs": [
    {
     "data": {
      "text/plain": [
       "True"
      ]
     },
     "execution_count": 14,
     "metadata": {},
     "output_type": "execute_result"
    }
   ],
   "source": [
    "(age >= 20 and age <30) or (age >= 30 and age < 40)"
   ]
  },
  {
   "cell_type": "code",
   "execution_count": 15,
   "id": "b8b8dee8",
   "metadata": {},
   "outputs": [
    {
     "data": {
      "text/plain": [
       "True"
      ]
     },
     "execution_count": 15,
     "metadata": {},
     "output_type": "execute_result"
    }
   ],
   "source": [
    "(20 <= age < 30) or (30 <= age < 40)"
   ]
  },
  {
   "cell_type": "code",
   "execution_count": null,
   "id": "caeb6f52",
   "metadata": {},
   "outputs": [],
   "source": []
  }
 ],
 "metadata": {
  "kernelspec": {
   "display_name": "Python 3 (ipykernel)",
   "language": "python",
   "name": "python3"
  },
  "language_info": {
   "codemirror_mode": {
    "name": "ipython",
    "version": 3
   },
   "file_extension": ".py",
   "mimetype": "text/x-python",
   "name": "python",
   "nbconvert_exporter": "python",
   "pygments_lexer": "ipython3",
   "version": "3.10.9"
  }
 },
 "nbformat": 4,
 "nbformat_minor": 5
}
