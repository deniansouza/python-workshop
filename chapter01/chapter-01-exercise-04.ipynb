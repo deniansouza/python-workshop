{
 "cells": [
  {
   "cell_type": "code",
   "execution_count": 2,
   "id": "76c5867a",
   "metadata": {},
   "outputs": [
    {
     "name": "stdout",
     "output_type": "stream",
     "text": [
      "1\n",
      "1000.0\n"
     ]
    }
   ],
   "source": [
    "first_number = 1\n",
    "my_money = 1000.00\n",
    "print(first_number)\n",
    "print(my_money)"
   ]
  },
  {
   "cell_type": "code",
   "execution_count": null,
   "id": "0b3357d2",
   "metadata": {},
   "outputs": [],
   "source": []
  }
 ],
 "metadata": {
  "kernelspec": {
   "display_name": "Python 3 (ipykernel)",
   "language": "python",
   "name": "python3"
  },
  "language_info": {
   "codemirror_mode": {
    "name": "ipython",
    "version": 3
   },
   "file_extension": ".py",
   "mimetype": "text/x-python",
   "name": "python",
   "nbconvert_exporter": "python",
   "pygments_lexer": "ipython3",
   "version": "3.10.9"
  }
 },
 "nbformat": 4,
 "nbformat_minor": 5
}
