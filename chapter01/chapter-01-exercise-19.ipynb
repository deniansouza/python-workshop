{
 "cells": [
  {
   "cell_type": "code",
   "execution_count": 1,
   "id": "9db42863",
   "metadata": {},
   "outputs": [
    {
     "name": "stdout",
     "output_type": "stream",
     "text": [
      "A one bedroom in the Bay Area is listed at $599,000\n",
      "Enter your first offer on the house.\n",
      "600000\n"
     ]
    }
   ],
   "source": [
    "print('A one bedroom in the Bay Area is listed at $599,000')\n",
    "print('Enter your first offer on the house.')\n",
    "offer = abs(int(input()))"
   ]
  },
  {
   "cell_type": "code",
   "execution_count": 2,
   "id": "6744c939",
   "metadata": {},
   "outputs": [
    {
     "name": "stdout",
     "output_type": "stream",
     "text": [
      "Enter your best offer on the house.\n",
      "700000\n"
     ]
    }
   ],
   "source": [
    "print('Enter your best offer on the house.')\n",
    "best = abs(int(input()))"
   ]
  },
  {
   "cell_type": "code",
   "execution_count": 3,
   "id": "7bc6d400",
   "metadata": {},
   "outputs": [
    {
     "name": "stdout",
     "output_type": "stream",
     "text": [
      "How much more do you want to offer each time?\n",
      "10000\n"
     ]
    }
   ],
   "source": [
    "print('How much more do you want to offer each time?')\n",
    "increment = abs(int(input()))"
   ]
  },
  {
   "cell_type": "code",
   "execution_count": 4,
   "id": "2b47bc98",
   "metadata": {},
   "outputs": [
    {
     "name": "stdout",
     "output_type": "stream",
     "text": [
      "We're sorry, you're offer of 600000 has not been accepted.\n",
      "We're sorry, you're offer of 610000 has not been accepted.\n",
      "We're sorry, you're offer of 620000 has not been accepted.\n",
      "We're sorry, you're offer of 630000 has not been accepted.\n",
      "We're sorry, you're offer of 640000 has not been accepted.\n",
      "Your offer of 650000 has been accepted!\n"
     ]
    }
   ],
   "source": [
    "accepted = False\n",
    "while offer <= best:\n",
    "    if offer >= 650000:\n",
    "        accepted = True\n",
    "        print('Your offer of', offer, 'has been accepted!')\n",
    "        break\n",
    "    else:\n",
    "        print('We\\'re sorry, you\\'re offer of', offer, 'has not been accepted.' )\n",
    "        offer += increment"
   ]
  },
  {
   "cell_type": "code",
   "execution_count": null,
   "id": "98cc0a4f",
   "metadata": {},
   "outputs": [],
   "source": []
  }
 ],
 "metadata": {
  "kernelspec": {
   "display_name": "Python 3 (ipykernel)",
   "language": "python",
   "name": "python3"
  },
  "language_info": {
   "codemirror_mode": {
    "name": "ipython",
    "version": 3
   },
   "file_extension": ".py",
   "mimetype": "text/x-python",
   "name": "python",
   "nbconvert_exporter": "python",
   "pygments_lexer": "ipython3",
   "version": "3.10.9"
  }
 },
 "nbformat": 4,
 "nbformat_minor": 5
}
