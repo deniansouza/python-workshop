{
 "cells": [
  {
   "cell_type": "code",
   "execution_count": 1,
   "id": "140f8c74",
   "metadata": {},
   "outputs": [
    {
     "name": "stdout",
     "output_type": "stream",
     "text": [
      "Should we greet people with Ciao in North Beach?\n"
     ]
    }
   ],
   "source": [
    "italian_greeting = 'Ciao'\n",
    "print('Should we greet people with', italian_greeting, 'in North Beach?')"
   ]
  },
  {
   "cell_type": "code",
   "execution_count": 2,
   "id": "08a0d6ab",
   "metadata": {},
   "outputs": [
    {
     "name": "stdout",
     "output_type": "stream",
     "text": [
      "The founder of City Lights Bookstore, Lawrence Ferlinghetti, is now 100 years old.\n"
     ]
    }
   ],
   "source": [
    "owner = 'Lawrence Ferlinghetti'\n",
    "age = 100\n",
    "print('The founder of City Lights Bookstore, {}, is now {} years old.'.format(owner, age))"
   ]
  },
  {
   "cell_type": "code",
   "execution_count": 3,
   "id": "606e4408",
   "metadata": {},
   "outputs": [
    {
     "data": {
      "text/plain": [
       "4"
      ]
     },
     "execution_count": 3,
     "metadata": {},
     "output_type": "execute_result"
    }
   ],
   "source": [
    "len(italian_greeting)"
   ]
  },
  {
   "cell_type": "code",
   "execution_count": 4,
   "id": "c893b02d",
   "metadata": {},
   "outputs": [
    {
     "data": {
      "text/plain": [
       "'corey'"
      ]
     },
     "execution_count": 4,
     "metadata": {},
     "output_type": "execute_result"
    }
   ],
   "source": [
    "name = 'Corey'\n",
    "name.lower()"
   ]
  },
  {
   "cell_type": "code",
   "execution_count": 5,
   "id": "5d2b9554",
   "metadata": {},
   "outputs": [
    {
     "data": {
      "text/plain": [
       "'Corey'"
      ]
     },
     "execution_count": 5,
     "metadata": {},
     "output_type": "execute_result"
    }
   ],
   "source": [
    "name.capitalize()"
   ]
  },
  {
   "cell_type": "code",
   "execution_count": 6,
   "id": "53c34573",
   "metadata": {},
   "outputs": [
    {
     "data": {
      "text/plain": [
       "'COREY'"
      ]
     },
     "execution_count": 6,
     "metadata": {},
     "output_type": "execute_result"
    }
   ],
   "source": [
    "name.upper()"
   ]
  },
  {
   "cell_type": "code",
   "execution_count": 7,
   "id": "f202fb35",
   "metadata": {},
   "outputs": [
    {
     "data": {
      "text/plain": [
       "1"
      ]
     },
     "execution_count": 7,
     "metadata": {},
     "output_type": "execute_result"
    }
   ],
   "source": [
    "name.count('o')"
   ]
  },
  {
   "cell_type": "code",
   "execution_count": null,
   "id": "5a59cb87",
   "metadata": {},
   "outputs": [],
   "source": []
  }
 ],
 "metadata": {
  "kernelspec": {
   "display_name": "Python 3 (ipykernel)",
   "language": "python",
   "name": "python3"
  },
  "language_info": {
   "codemirror_mode": {
    "name": "ipython",
    "version": 3
   },
   "file_extension": ".py",
   "mimetype": "text/x-python",
   "name": "python",
   "nbconvert_exporter": "python",
   "pygments_lexer": "ipython3",
   "version": "3.10.9"
  }
 },
 "nbformat": 4,
 "nbformat_minor": 5
}
