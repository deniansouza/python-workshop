{
 "cells": [
  {
   "cell_type": "code",
   "execution_count": 2,
   "id": "3f0ed0f0",
   "metadata": {},
   "outputs": [
    {
     "name": "stdout",
     "output_type": "stream",
     "text": [
      "Rate your day on a scale of 1 to 10\n",
      "10\n"
     ]
    }
   ],
   "source": [
    "print('Rate your day on a scale of 1 to 10')\n",
    "rate = input()"
   ]
  },
  {
   "cell_type": "code",
   "execution_count": 3,
   "id": "b5a06794",
   "metadata": {},
   "outputs": [
    {
     "name": "stdout",
     "output_type": "stream",
     "text": [
      "Your rate: 10\n"
     ]
    }
   ],
   "source": [
    "print('Your rate: ' + rate)"
   ]
  },
  {
   "cell_type": "code",
   "execution_count": null,
   "id": "ddcec558",
   "metadata": {},
   "outputs": [],
   "source": []
  }
 ],
 "metadata": {
  "kernelspec": {
   "display_name": "Python 3 (ipykernel)",
   "language": "python",
   "name": "python3"
  },
  "language_info": {
   "codemirror_mode": {
    "name": "ipython",
    "version": 3
   },
   "file_extension": ".py",
   "mimetype": "text/x-python",
   "name": "python",
   "nbconvert_exporter": "python",
   "pygments_lexer": "ipython3",
   "version": "3.10.9"
  }
 },
 "nbformat": 4,
 "nbformat_minor": 5
}
