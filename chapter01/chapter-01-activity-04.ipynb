{
 "cells": [
  {
   "cell_type": "code",
   "execution_count": 6,
   "id": "063bafe6",
   "metadata": {},
   "outputs": [],
   "source": [
    "a, b = 24, 36\n"
   ]
  },
  {
   "cell_type": "code",
   "execution_count": 16,
   "id": "450543c0",
   "metadata": {},
   "outputs": [
    {
     "name": "stdout",
     "output_type": "stream",
     "text": [
      "The Least Common Multiple of 24  and 36 is  72\n"
     ]
    }
   ],
   "source": [
    "stop = False\n",
    "i = 0\n",
    "while stop == False:\n",
    "    i += 1\n",
    "    if i % a == 0 and i % b == 0:\n",
    "        print('The Least Common Multiple of', a, ' and', b, 'is ', i)\n",
    "        break\n",
    "        "
   ]
  },
  {
   "cell_type": "code",
   "execution_count": null,
   "id": "aa1efc2c",
   "metadata": {},
   "outputs": [],
   "source": []
  }
 ],
 "metadata": {
  "kernelspec": {
   "display_name": "Python 3 (ipykernel)",
   "language": "python",
   "name": "python3"
  },
  "language_info": {
   "codemirror_mode": {
    "name": "ipython",
    "version": 3
   },
   "file_extension": ".py",
   "mimetype": "text/x-python",
   "name": "python",
   "nbconvert_exporter": "python",
   "pygments_lexer": "ipython3",
   "version": "3.10.9"
  }
 },
 "nbformat": 4,
 "nbformat_minor": 5
}
