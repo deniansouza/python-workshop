{
 "cells": [
  {
   "cell_type": "code",
   "execution_count": 1,
   "id": "5b288e34",
   "metadata": {},
   "outputs": [
    {
     "name": "stdout",
     "output_type": "stream",
     "text": [
      "What is your name?\n"
     ]
    }
   ],
   "source": [
    "print('What is your name?')"
   ]
  },
  {
   "cell_type": "code",
   "execution_count": 2,
   "id": "1cf37530",
   "metadata": {},
   "outputs": [
    {
     "name": "stdout",
     "output_type": "stream",
     "text": [
      "Denian\n",
      "Fascinating. Denian is my name too.\n"
     ]
    }
   ],
   "source": [
    "name = input() \n",
    "print('Fascinating.', name, 'is my name too.') "
   ]
  },
  {
   "cell_type": "code",
   "execution_count": 3,
   "id": "9cb3442d",
   "metadata": {},
   "outputs": [
    {
     "name": "stdout",
     "output_type": "stream",
     "text": [
      "Have you thought about black holes today?\n"
     ]
    }
   ],
   "source": [
    "print('Have you thought about black holes today?')"
   ]
  },
  {
   "cell_type": "code",
   "execution_count": 4,
   "id": "b16c9dfe",
   "metadata": {},
   "outputs": [
    {
     "name": "stdout",
     "output_type": "stream",
     "text": [
      "yes\n",
      "I am so glad you said yes . I was thinking the same thing.\n"
     ]
    }
   ],
   "source": [
    "yes_no = input() \n",
    "print('I am so glad you said', yes_no, '. I was thinking the same thing.')"
   ]
  },
  {
   "cell_type": "code",
   "execution_count": 5,
   "id": "a2f219f3",
   "metadata": {},
   "outputs": [
    {
     "name": "stdout",
     "output_type": "stream",
     "text": [
      "We're kindred spirits, Denian . Talk later.\n"
     ]
    }
   ],
   "source": [
    "print('We\\'re kindred spirits,', name, '. Talk later.')"
   ]
  },
  {
   "cell_type": "code",
   "execution_count": 6,
   "id": "d1e2ca17",
   "metadata": {},
   "outputs": [
    {
     "name": "stdout",
     "output_type": "stream",
     "text": [
      "How intelligent are you? 0 is very dumb. And 10 is a genius\n",
      "1\n"
     ]
    }
   ],
   "source": [
    "print('How intelligent are you? 0 is very dumb. And 10 is a genius') \n",
    "smarts = input()\n",
    "smarts = int(smarts)"
   ]
  },
  {
   "cell_type": "code",
   "execution_count": 7,
   "id": "a9d031f0",
   "metadata": {},
   "outputs": [
    {
     "name": "stdout",
     "output_type": "stream",
     "text": [
      "I don't believe you.\n",
      "How bad of a day are you having? 0 is the worst, and 10 is the best.\n"
     ]
    }
   ],
   "source": [
    "if smarts <= 3:\n",
    "   print('I don\\'t believe you.')\n",
    "   print('How bad of a day are you having? 0 is the worst, and 10 is the best.')"
   ]
  },
  {
   "cell_type": "code",
   "execution_count": 8,
   "id": "cd7a8857",
   "metadata": {},
   "outputs": [
    {
     "name": "stdout",
     "output_type": "stream",
     "text": [
      "7\n"
     ]
    }
   ],
   "source": [
    "day = input()\n",
    "day = int(day)"
   ]
  },
  {
   "cell_type": "code",
   "execution_count": 11,
   "id": "a3d2a230",
   "metadata": {},
   "outputs": [
    {
     "name": "stdout",
     "output_type": "stream",
     "text": [
      "Maybe I should try your approach.\n"
     ]
    }
   ],
   "source": [
    "if day <= 5:\n",
    "       print('If I was human, I would give you a hug.')\n",
    "else:\n",
    "       print('Maybe I should try your approach.')"
   ]
  },
  {
   "cell_type": "code",
   "execution_count": null,
   "id": "f04b3bbf",
   "metadata": {},
   "outputs": [],
   "source": []
  }
 ],
 "metadata": {
  "kernelspec": {
   "display_name": "Python 3 (ipykernel)",
   "language": "python",
   "name": "python3"
  },
  "language_info": {
   "codemirror_mode": {
    "name": "ipython",
    "version": 3
   },
   "file_extension": ".py",
   "mimetype": "text/x-python",
   "name": "python",
   "nbconvert_exporter": "python",
   "pygments_lexer": "ipython3",
   "version": "3.10.9"
  }
 },
 "nbformat": 4,
 "nbformat_minor": 5
}
