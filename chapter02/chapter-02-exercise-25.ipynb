{
 "cells": [
  {
   "cell_type": "code",
   "execution_count": 1,
   "id": "53a55f13",
   "metadata": {},
   "outputs": [
    {
     "name": "stdout",
     "output_type": "stream",
     "text": [
      "3\n"
     ]
    }
   ],
   "source": [
    "shopping = [\"Bread\", \"Milk\", \"Eggs\"]\n",
    "print(len(shopping))"
   ]
  },
  {
   "cell_type": "code",
   "execution_count": 3,
   "id": "f0aebd4a",
   "metadata": {},
   "outputs": [
    {
     "name": "stdout",
     "output_type": "stream",
     "text": [
      "[1, 2, 3, 4, 5, 6]\n"
     ]
    }
   ],
   "source": [
    "list1, list2 = [1, 2, 3], [4, 5, 6]\n",
    "final_list = list1 + list2\n",
    "print(final_list)"
   ]
  },
  {
   "cell_type": "code",
   "execution_count": 5,
   "id": "d9a3608c",
   "metadata": {},
   "outputs": [
    {
     "name": "stdout",
     "output_type": "stream",
     "text": [
      "['oi', 'oi', 'oi']\n"
     ]
    }
   ],
   "source": [
    "list3 = ['oi']\n",
    "print(list3 * 3)"
   ]
  },
  {
   "cell_type": "code",
   "execution_count": null,
   "id": "9b864395",
   "metadata": {},
   "outputs": [],
   "source": []
  }
 ],
 "metadata": {
  "kernelspec": {
   "display_name": "Python 3 (ipykernel)",
   "language": "python",
   "name": "python3"
  },
  "language_info": {
   "codemirror_mode": {
    "name": "ipython",
    "version": 3
   },
   "file_extension": ".py",
   "mimetype": "text/x-python",
   "name": "python",
   "nbconvert_exporter": "python",
   "pygments_lexer": "ipython3",
   "version": "3.10.9"
  }
 },
 "nbformat": 4,
 "nbformat_minor": 5
}
