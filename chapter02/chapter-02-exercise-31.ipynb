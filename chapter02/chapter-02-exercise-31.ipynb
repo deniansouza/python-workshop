{
 "cells": [
  {
   "cell_type": "code",
   "execution_count": 1,
   "id": "bbce81cd",
   "metadata": {},
   "outputs": [
    {
     "name": "stdout",
     "output_type": "stream",
     "text": [
      "3\n"
     ]
    }
   ],
   "source": [
    "t = ('bread', 'milk', 'eggs')\n",
    "print(len(t))"
   ]
  },
  {
   "cell_type": "code",
   "execution_count": 2,
   "id": "a05b2efa",
   "metadata": {},
   "outputs": [
    {
     "name": "stdout",
     "output_type": "stream",
     "text": [
      "('bread', 'milk', 'eggs', 'apple', 'orange')\n",
      "('bread', 'milk', 'eggs')\n"
     ]
    }
   ],
   "source": [
    "print(t + ('apple', 'orange'))\n",
    "print(t)"
   ]
  },
  {
   "cell_type": "code",
   "execution_count": 3,
   "id": "712936cd",
   "metadata": {},
   "outputs": [
    {
     "name": "stdout",
     "output_type": "stream",
     "text": [
      "('apple', True, 3)\n",
      "(('apple', 3), ('orange', 2), ('banana', 5))\n"
     ]
    }
   ],
   "source": [
    "t_mixed = 'apple', True, 3\n",
    "print(t_mixed)\n",
    "t_shopping = ('apple',3), ('orange',2), ('banana',5)\n",
    "print(t_shopping)"
   ]
  },
  {
   "cell_type": "code",
   "execution_count": null,
   "id": "2487ec9b",
   "metadata": {},
   "outputs": [],
   "source": []
  }
 ],
 "metadata": {
  "kernelspec": {
   "display_name": "Python 3 (ipykernel)",
   "language": "python",
   "name": "python3"
  },
  "language_info": {
   "codemirror_mode": {
    "name": "ipython",
    "version": 3
   },
   "file_extension": ".py",
   "mimetype": "text/x-python",
   "name": "python",
   "nbconvert_exporter": "python",
   "pygments_lexer": "ipython3",
   "version": "3.10.9"
  }
 },
 "nbformat": 4,
 "nbformat_minor": 5
}
