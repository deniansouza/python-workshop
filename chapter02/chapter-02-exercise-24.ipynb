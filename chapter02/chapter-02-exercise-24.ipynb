{
 "cells": [
  {
   "cell_type": "code",
   "execution_count": 2,
   "id": "32a85a28",
   "metadata": {},
   "outputs": [
    {
     "name": "stdout",
     "output_type": "stream",
     "text": [
      "[11, 14, 17, 20]\n",
      "[29, 38, 47, 56]\n",
      "[33, 42, 51, 60]\n"
     ]
    }
   ],
   "source": [
    "X = [[1, 2], [4, 5], [3, 6]]\n",
    "Y = [[1,2,3,4],[5,6,7,8]]\n",
    "\n",
    "result = [[0, 0, 0, 0], [0, 0, 0, 0], [0, 0, 0, 0]]\n",
    "\n",
    "# iterating by row of X \n",
    "for i in range(len(X)): \n",
    " \n",
    "  # iterating by column by Y \n",
    "  for j in range(len(Y[0])): \n",
    " \n",
    "    # iterating by rows of Y\n",
    "    for k in range(len(Y)): \n",
    "      result[i][j] += X[i][k] * Y[k][j] \n",
    "    \n",
    "for r in result: \n",
    "  print(r)"
   ]
  },
  {
   "cell_type": "code",
   "execution_count": null,
   "id": "c90c6de9",
   "metadata": {},
   "outputs": [],
   "source": []
  }
 ],
 "metadata": {
  "kernelspec": {
   "display_name": "Python 3 (ipykernel)",
   "language": "python",
   "name": "python3"
  },
  "language_info": {
   "codemirror_mode": {
    "name": "ipython",
    "version": 3
   },
   "file_extension": ".py",
   "mimetype": "text/x-python",
   "name": "python",
   "nbconvert_exporter": "python",
   "pygments_lexer": "ipython3",
   "version": "3.10.9"
  }
 },
 "nbformat": 4,
 "nbformat_minor": 5
}
