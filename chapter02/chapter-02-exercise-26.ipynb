{
 "cells": [
  {
   "cell_type": "code",
   "execution_count": 1,
   "id": "0f4cfadb",
   "metadata": {},
   "outputs": [
    {
     "name": "stdout",
     "output_type": "stream",
     "text": [
      "milk\n"
     ]
    }
   ],
   "source": [
    "shopping = ['bread', 'milk', 'eggs']\n",
    "print(shopping[1])"
   ]
  },
  {
   "cell_type": "code",
   "execution_count": 2,
   "id": "9797c804",
   "metadata": {},
   "outputs": [
    {
     "name": "stdout",
     "output_type": "stream",
     "text": [
      "['bread', 'banana', 'eggs']\n"
     ]
    }
   ],
   "source": [
    "shopping[1] = 'banana'\n",
    "print(shopping)"
   ]
  },
  {
   "cell_type": "code",
   "execution_count": 3,
   "id": "37f76740",
   "metadata": {},
   "outputs": [
    {
     "name": "stdout",
     "output_type": "stream",
     "text": [
      "eggs\n"
     ]
    }
   ],
   "source": [
    "print(shopping[-1])"
   ]
  },
  {
   "cell_type": "code",
   "execution_count": 4,
   "id": "82c2cf90",
   "metadata": {},
   "outputs": [
    {
     "name": "stdout",
     "output_type": "stream",
     "text": [
      "['bread', 'banana']\n"
     ]
    }
   ],
   "source": [
    "print(shopping[0:2])"
   ]
  },
  {
   "cell_type": "code",
   "execution_count": 5,
   "id": "45795a92",
   "metadata": {},
   "outputs": [
    {
     "name": "stdout",
     "output_type": "stream",
     "text": [
      "['bread', 'banana', 'eggs']\n"
     ]
    }
   ],
   "source": [
    "print(shopping[:3])"
   ]
  },
  {
   "cell_type": "code",
   "execution_count": 6,
   "id": "1dbc2fdd",
   "metadata": {},
   "outputs": [
    {
     "name": "stdout",
     "output_type": "stream",
     "text": [
      "['banana', 'eggs']\n"
     ]
    }
   ],
   "source": [
    "print(shopping[1:])"
   ]
  },
  {
   "cell_type": "code",
   "execution_count": null,
   "id": "0b1399c7",
   "metadata": {},
   "outputs": [],
   "source": []
  }
 ],
 "metadata": {
  "kernelspec": {
   "display_name": "Python 3 (ipykernel)",
   "language": "python",
   "name": "python3"
  },
  "language_info": {
   "codemirror_mode": {
    "name": "ipython",
    "version": 3
   },
   "file_extension": ".py",
   "mimetype": "text/x-python",
   "name": "python",
   "nbconvert_exporter": "python",
   "pygments_lexer": "ipython3",
   "version": "3.10.9"
  }
 },
 "nbformat": 4,
 "nbformat_minor": 5
}
