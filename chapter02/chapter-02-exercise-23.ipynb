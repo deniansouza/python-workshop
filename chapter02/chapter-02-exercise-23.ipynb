{
 "cells": [
  {
   "cell_type": "code",
   "execution_count": 1,
   "id": "64da9782",
   "metadata": {},
   "outputs": [
    {
     "name": "stdout",
     "output_type": "stream",
     "text": [
      "[[11, 13, 15], [17, 19, 21], [23, 25, 27]]\n"
     ]
    }
   ],
   "source": [
    "X = [[1,2,3],[4,5,6],[7,8,9]]\n",
    "Y = [[10,11,12],[13,14,15],[16,17,18]]\n",
    "\n",
    "# Initialize a result placeholder\n",
    "result = [[0,0,0], [0,0,0], [0,0,0]] \n",
    "\n",
    "# iterate through rows\n",
    "for i in range(len(X)):  \n",
    "# iterate through columns \n",
    "  for j in range(len(X[0])): \n",
    "    result[i][j] = X[i][j] + Y[i][j] \n",
    "    \n",
    "print(result)"
   ]
  },
  {
   "cell_type": "code",
   "execution_count": 2,
   "id": "20a81808",
   "metadata": {},
   "outputs": [
    {
     "name": "stdout",
     "output_type": "stream",
     "text": [
      "[[9, 9, 9], [9, 9, 9], [9, 9, 9]]\n"
     ]
    }
   ],
   "source": [
    "X = [[10,11,12],[13,14,15],[16,17,18]]\n",
    "Y = [[1,2,3],[4,5,6],[7,8,9]]\n",
    "# Initialize a result placeholder\n",
    "result = [[0,0,0], \n",
    "    [0,0,0], \n",
    "    [0,0,0]] \n",
    "# iterate through rows \n",
    "for i in range(len(X)):  \n",
    "# iterate through columns \n",
    "  for j in range(len(X[0])): \n",
    "    result[i][j] = X[i][j] - Y[i][j] \n",
    "    \n",
    "print(result)"
   ]
  },
  {
   "cell_type": "code",
   "execution_count": null,
   "id": "fe2ed0c7",
   "metadata": {},
   "outputs": [],
   "source": []
  }
 ],
 "metadata": {
  "kernelspec": {
   "display_name": "Python 3 (ipykernel)",
   "language": "python",
   "name": "python3"
  },
  "language_info": {
   "codemirror_mode": {
    "name": "ipython",
    "version": 3
   },
   "file_extension": ".py",
   "mimetype": "text/x-python",
   "name": "python",
   "nbconvert_exporter": "python",
   "pygments_lexer": "ipython3",
   "version": "3.10.9"
  }
 },
 "nbformat": 4,
 "nbformat_minor": 5
}
