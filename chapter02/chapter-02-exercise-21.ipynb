{
 "cells": [
  {
   "cell_type": "code",
   "execution_count": 1,
   "id": "404a2c1b",
   "metadata": {},
   "outputs": [
    {
     "name": "stdout",
     "output_type": "stream",
     "text": [
      "['bread', 'milk', 'eggs']\n"
     ]
    }
   ],
   "source": [
    "shopping = [\"bread\", \"milk\", \"eggs\"]\n",
    "print(shopping)"
   ]
  },
  {
   "cell_type": "code",
   "execution_count": 2,
   "id": "2df0b941",
   "metadata": {},
   "outputs": [
    {
     "name": "stdout",
     "output_type": "stream",
     "text": [
      "bread\n",
      "milk\n",
      "eggs\n"
     ]
    }
   ],
   "source": [
    "for item in shopping:\n",
    "    print(item)"
   ]
  },
  {
   "cell_type": "code",
   "execution_count": 3,
   "id": "f184135d",
   "metadata": {},
   "outputs": [
    {
     "name": "stdout",
     "output_type": "stream",
     "text": [
      "[365, 'days', True]\n",
      "365\n",
      "days\n",
      "True\n"
     ]
    }
   ],
   "source": [
    "mixed = [365, \"days\", True]\n",
    "print(mixed)\n",
    "for item in mixed:\n",
    "    print(item)"
   ]
  },
  {
   "cell_type": "code",
   "execution_count": null,
   "id": "f4051db0",
   "metadata": {},
   "outputs": [],
   "source": []
  }
 ],
 "metadata": {
  "kernelspec": {
   "display_name": "Python 3 (ipykernel)",
   "language": "python",
   "name": "python3"
  },
  "language_info": {
   "codemirror_mode": {
    "name": "ipython",
    "version": 3
   },
   "file_extension": ".py",
   "mimetype": "text/x-python",
   "name": "python",
   "nbconvert_exporter": "python",
   "pygments_lexer": "ipython3",
   "version": "3.10.9"
  }
 },
 "nbformat": 4,
 "nbformat_minor": 5
}
