{
 "cells": [
  {
   "cell_type": "code",
   "execution_count": 25,
   "id": "4644c0ba",
   "metadata": {},
   "outputs": [
    {
     "name": "stdout",
     "output_type": "stream",
     "text": [
      "[['John Mckee', 38, 'Sales'], ['Lisa Crawford', 29, 'Marketing'], ['Sujan Patel', 33, 'HR']]\n"
     ]
    }
   ],
   "source": [
    "employees = [['John Mckee', 38, 'Sales'], ['Lisa Crawford', 29, 'Marketing'], ['Sujan Patel', 33, 'HR']]\n",
    "print(employees)"
   ]
  },
  {
   "cell_type": "code",
   "execution_count": 30,
   "id": "66289be1",
   "metadata": {},
   "outputs": [
    {
     "name": "stdout",
     "output_type": "stream",
     "text": [
      "['John Mckee', 38, 'Sales']\n",
      "Name: John Mckee\n",
      "Age 38\n",
      "Department Sales\n",
      "--------------------\n",
      "['Lisa Crawford', 29, 'Marketing']\n",
      "Name: Lisa Crawford\n",
      "Age 29\n",
      "Department Marketing\n",
      "--------------------\n",
      "['Sujan Patel', 33, 'HR']\n",
      "Name: Sujan Patel\n",
      "Age 33\n",
      "Department HR\n",
      "--------------------\n"
     ]
    }
   ],
   "source": [
    "for employee in employees:\n",
    "    print(employee)\n",
    "    print('Name:', employee[0])\n",
    "    print('Age', employee[1])\n",
    "    print('Department', employee[2])\n",
    "    print('-' * 20)"
   ]
  },
  {
   "cell_type": "code",
   "execution_count": 31,
   "id": "e76e6de4",
   "metadata": {},
   "outputs": [
    {
     "name": "stdout",
     "output_type": "stream",
     "text": [
      "['Lisa Crawford', 29, 'Marketing']\n",
      "Name: Lisa Crawford\n",
      "Age: 29\n",
      "Department: Marketing\n",
      "--------------------\n"
     ]
    }
   ],
   "source": [
    "employee = employees[1]\n",
    "print(employee)\n",
    "print(\"Name:\", employee[0])\n",
    "print(\"Age:\", employee[1])\n",
    "print(\"Department:\", employee[2])\n",
    "print('-' * 20)"
   ]
  },
  {
   "cell_type": "code",
   "execution_count": null,
   "id": "5a1e6430",
   "metadata": {},
   "outputs": [],
   "source": []
  }
 ],
 "metadata": {
  "kernelspec": {
   "display_name": "Python 3 (ipykernel)",
   "language": "python",
   "name": "python3"
  },
  "language_info": {
   "codemirror_mode": {
    "name": "ipython",
    "version": 3
   },
   "file_extension": ".py",
   "mimetype": "text/x-python",
   "name": "python",
   "nbconvert_exporter": "python",
   "pygments_lexer": "ipython3",
   "version": "3.10.9"
  }
 },
 "nbformat": 4,
 "nbformat_minor": 5
}
