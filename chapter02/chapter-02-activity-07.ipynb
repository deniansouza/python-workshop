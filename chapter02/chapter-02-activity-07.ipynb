{
 "cells": [
  {
   "cell_type": "code",
   "execution_count": 17,
   "id": "0a5863c8",
   "metadata": {},
   "outputs": [
    {
     "name": "stdout",
     "output_type": "stream",
     "text": [
      "Name: Sujan Patel\n",
      "Age: 33\n",
      "Department: HR\n",
      "--------------------\n"
     ]
    }
   ],
   "source": [
    "employees = []\n",
    "\n",
    "employee_1 = {\n",
    "    \"name\": \"John Mckee\",\n",
    "    \"age\": 38,\n",
    "    \"department\": \"Sales\"\n",
    "}\n",
    "employees.append(employee_1)\n",
    "\n",
    "employee_2 = {\n",
    "    \"name\": \"Lisa Crawford\",\n",
    "    \"age\": 29,\n",
    "    \"department\": \"Marketing\"\n",
    "}\n",
    "employees.append(employee_2)\n",
    "\n",
    "employee_3 = {\n",
    "    \"name\": \"Sujan Patel\",\n",
    "    \"age\": 33,\n",
    "    \"department\": \"HR\"\n",
    "}\n",
    "employees.append(employee_3)\n",
    "\n",
    "print('Name:', employees[2]['name'])\n",
    "print('Age:', employees[2]['age'])\n",
    "print('Department:', employees[2]['department'])\n",
    "print('-' * 20)"
   ]
  },
  {
   "cell_type": "code",
   "execution_count": 18,
   "id": "e976d060",
   "metadata": {},
   "outputs": [
    {
     "name": "stdout",
     "output_type": "stream",
     "text": [
      "[{'name': 'John Mckee', 'age': 38, 'department': 'Sales'}, {'name': 'Lisa Crawford', 'age': 29, 'department': 'Marketing'}, {'name': 'Sujan Patel', 'age': 33, 'department': 'HR'}]\n"
     ]
    }
   ],
   "source": [
    "employees = [\n",
    "    {\"name\": \"John Mckee\", \"age\":38, \"department\":\"Sales\"},\n",
    "    {\"name\": \"Lisa Crawford\", \"age\":29, \"department\":\"Marketing\"},\n",
    "    {\"name\": \"Sujan Patel\", \"age\":33, \"department\":\"HR\"}\n",
    "]\n",
    "print(employees)"
   ]
  },
  {
   "cell_type": "code",
   "execution_count": 19,
   "id": "4fe93c1d",
   "metadata": {},
   "outputs": [
    {
     "name": "stdout",
     "output_type": "stream",
     "text": [
      "Name: John Mckee\n",
      "Age: 38\n",
      "Department: Sales\n",
      "--------------------\n",
      "Name: Lisa Crawford\n",
      "Age: 29\n",
      "Department: Marketing\n",
      "--------------------\n",
      "Name: Sujan Patel\n",
      "Age: 33\n",
      "Department: HR\n",
      "--------------------\n"
     ]
    }
   ],
   "source": [
    "for employee in employees:\n",
    "    print(\"Name:\", employee['name'])\n",
    "    print(\"Age:\", employee['age'])\n",
    "    print(\"Department:\", employee['department'])\n",
    "    print('-' * 20)"
   ]
  },
  {
   "cell_type": "code",
   "execution_count": 20,
   "id": "736ef223",
   "metadata": {},
   "outputs": [
    {
     "name": "stdout",
     "output_type": "stream",
     "text": [
      "Name: Sujan Patel\n",
      "Age: 33\n",
      "Department: HR\n",
      "--------------------\n"
     ]
    }
   ],
   "source": [
    "for employee in employees:\n",
    "    if employee['name'] == 'Sujan Patel':\n",
    "        print(\"Name:\", employee['name'])\n",
    "        print(\"Age:\", employee['age'])\n",
    "        print(\"Department:\", employee['department'])\n",
    "        print('-' * 20)"
   ]
  },
  {
   "cell_type": "code",
   "execution_count": null,
   "id": "35e39cfe",
   "metadata": {},
   "outputs": [],
   "source": []
  }
 ],
 "metadata": {
  "kernelspec": {
   "display_name": "Python 3 (ipykernel)",
   "language": "python",
   "name": "python3"
  },
  "language_info": {
   "codemirror_mode": {
    "name": "ipython",
    "version": 3
   },
   "file_extension": ".py",
   "mimetype": "text/x-python",
   "name": "python",
   "nbconvert_exporter": "python",
   "pygments_lexer": "ipython3",
   "version": "3.10.9"
  }
 },
 "nbformat": 4,
 "nbformat_minor": 5
}
